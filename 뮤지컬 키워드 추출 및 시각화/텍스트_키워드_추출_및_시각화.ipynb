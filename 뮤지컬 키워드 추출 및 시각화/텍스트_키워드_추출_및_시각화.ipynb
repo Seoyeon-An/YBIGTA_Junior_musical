{
  "nbformat": 4,
  "nbformat_minor": 0,
  "metadata": {
    "colab": {
      "provenance": []
    },
    "kernelspec": {
      "name": "python3",
      "display_name": "Python 3"
    },
    "language_info": {
      "name": "python"
    },
    "gpuClass": "standard"
  },
  "cells": [
    {
      "cell_type": "markdown",
      "source": [
        "# KoNLPy 설치 및 테스트"
      ],
      "metadata": {
        "id": "6r7zrpsLIi8P"
      }
    },
    {
      "cell_type": "code",
      "source": [
        "%%bash\n",
        "apt-get update\n",
        "apt-get install g++ openjdk-8-jdk python-dev python3-dev\n",
        "pip3 install JPype1\n",
        "pip3 install konlpy"
      ],
      "metadata": {
        "colab": {
          "base_uri": "https://localhost:8080/"
        },
        "id": "8oRm5U5yqiYI",
        "outputId": "4d9dab7b-8afb-41f2-98b0-6f54dfbbb015"
      },
      "execution_count": 115,
      "outputs": [
        {
          "output_type": "stream",
          "name": "stdout",
          "text": [
            "Hit:1 http://security.ubuntu.com/ubuntu focal-security InRelease\n",
            "Hit:2 http://archive.ubuntu.com/ubuntu focal InRelease\n",
            "Hit:3 https://cloud.r-project.org/bin/linux/ubuntu focal-cran40/ InRelease\n",
            "Hit:4 http://archive.ubuntu.com/ubuntu focal-updates InRelease\n",
            "Hit:5 https://developer.download.nvidia.com/compute/cuda/repos/ubuntu2004/x86_64  InRelease\n",
            "Hit:6 http://archive.ubuntu.com/ubuntu focal-backports InRelease\n",
            "Hit:7 http://ppa.launchpad.net/c2d4u.team/c2d4u4.0+/ubuntu focal InRelease\n",
            "Hit:8 http://ppa.launchpad.net/cran/libgit2/ubuntu focal InRelease\n",
            "Hit:9 http://ppa.launchpad.net/deadsnakes/ppa/ubuntu focal InRelease\n",
            "Hit:10 http://ppa.launchpad.net/graphics-drivers/ppa/ubuntu focal InRelease\n",
            "Hit:11 http://ppa.launchpad.net/ubuntugis/ppa/ubuntu focal InRelease\n",
            "Reading package lists...\n",
            "Reading package lists...\n",
            "Building dependency tree...\n",
            "Reading state information...\n",
            "g++ is already the newest version (4:9.3.0-1ubuntu2).\n",
            "python3-dev is already the newest version (3.8.2-0ubuntu2).\n",
            "python-dev-is-python2 is already the newest version (2.7.17-4).\n",
            "openjdk-8-jdk is already the newest version (8u372-ga~us1-0ubuntu1~20.04).\n",
            "0 upgraded, 0 newly installed, 0 to remove and 27 not upgraded.\n",
            "Looking in indexes: https://pypi.org/simple, https://us-python.pkg.dev/colab-wheels/public/simple/\n",
            "Requirement already satisfied: JPype1 in /usr/local/lib/python3.10/dist-packages (1.4.1)\n",
            "Requirement already satisfied: packaging in /usr/local/lib/python3.10/dist-packages (from JPype1) (23.1)\n",
            "Looking in indexes: https://pypi.org/simple, https://us-python.pkg.dev/colab-wheels/public/simple/\n",
            "Requirement already satisfied: konlpy in /usr/local/lib/python3.10/dist-packages (0.6.0)\n",
            "Requirement already satisfied: JPype1>=0.7.0 in /usr/local/lib/python3.10/dist-packages (from konlpy) (1.4.1)\n",
            "Requirement already satisfied: lxml>=4.1.0 in /usr/local/lib/python3.10/dist-packages (from konlpy) (4.9.2)\n",
            "Requirement already satisfied: numpy>=1.6 in /usr/local/lib/python3.10/dist-packages (from konlpy) (1.22.4)\n",
            "Requirement already satisfied: packaging in /usr/local/lib/python3.10/dist-packages (from JPype1>=0.7.0->konlpy) (23.1)\n"
          ]
        }
      ]
    },
    {
      "cell_type": "code",
      "source": [
        "%env JAVA_HOME \"/usr/lib/jvm/java-8-openjdk-amd64\""
      ],
      "metadata": {
        "colab": {
          "base_uri": "https://localhost:8080/"
        },
        "id": "7TfxIB-FqiuR",
        "outputId": "7f535ea4-908d-4fb3-d634-516a47e08bce"
      },
      "execution_count": 116,
      "outputs": [
        {
          "output_type": "stream",
          "name": "stdout",
          "text": [
            "env: JAVA_HOME=\"/usr/lib/jvm/java-8-openjdk-amd64\"\n"
          ]
        }
      ]
    },
    {
      "cell_type": "code",
      "source": [
        "%%bash\n",
        "bash <(curl -s https://raw.githubusercontent.com/konlpy/konlpy/master/scripts/mecab.sh)\n",
        "pip3 install python-mecab-ko"
      ],
      "metadata": {
        "colab": {
          "base_uri": "https://localhost:8080/"
        },
        "id": "4Vr38k5Iqi_P",
        "outputId": "9eca0d7a-4aab-44e5-cb1a-8ad94b2c36b3"
      },
      "execution_count": 117,
      "outputs": [
        {
          "output_type": "stream",
          "name": "stdout",
          "text": [
            "mecab-ko is already installed\n",
            "mecab-ko-dic is already installed\n",
            "Install mecab-python\n",
            "/tmp /content\n",
            "/content\n",
            "Looking in indexes: https://pypi.org/simple, https://us-python.pkg.dev/colab-wheels/public/simple/\n",
            "Processing /tmp/mecab-python-0.996\n",
            "  Preparing metadata (setup.py): started\n",
            "  Preparing metadata (setup.py): finished with status 'error'\n",
            "Looking in indexes: https://pypi.org/simple, https://us-python.pkg.dev/colab-wheels/public/simple/\n",
            "Requirement already satisfied: python-mecab-ko in /usr/local/lib/python3.10/dist-packages (1.3.3)\n",
            "Requirement already satisfied: python-mecab-ko-dic in /usr/local/lib/python3.10/dist-packages (from python-mecab-ko) (2.1.1.post2)\n"
          ]
        },
        {
          "output_type": "stream",
          "name": "stderr",
          "text": [
            "  error: subprocess-exited-with-error\n",
            "  \n",
            "  × python setup.py egg_info did not run successfully.\n",
            "  │ exit code: 1\n",
            "  ╰─> See above for output.\n",
            "  \n",
            "  note: This error originates from a subprocess, and is likely not a problem with pip.\n",
            "error: metadata-generation-failed\n",
            "\n",
            "× Encountered error while generating package metadata.\n",
            "╰─> See above for output.\n",
            "\n",
            "note: This is an issue with the package mentioned above, not pip.\n",
            "hint: See above for details.\n"
          ]
        }
      ]
    },
    {
      "cell_type": "code",
      "source": [
        "from wordcloud import WordCloud\n",
        "import matplotlib.pyplot as plt\n",
        "from collections import Counter\n",
        "from konlpy.tag import Okt\n",
        "from PIL import Image\n",
        "import numpy as np\n",
        "import pandas as pd\n",
        "\n",
        "import konlpy\n",
        "from konlpy.tag import Kkma, Komoran, Hannanum, Okt\n",
        "from konlpy.utils import pprint\n",
        "from mecab import MeCab"
      ],
      "metadata": {
        "id": "FgE5Ah29sQZE"
      },
      "execution_count": 118,
      "outputs": []
    },
    {
      "cell_type": "code",
      "source": [
        "# KoNLPy의 Okt 와 Mecab 불러와서 사용해보기\n",
        "import konlpy\n",
        "from konlpy.tag import Kkma, Komoran, Hannanum, Okt\n",
        "from konlpy.utils import pprint\n",
        "from mecab import MeCab\n",
        "Okt = Okt()\n",
        "mecab = MeCab()\n",
        "# 예시 문장\n",
        "sentence = \"OMG 공부하기 넘 싫네요. 그래도 스터디 해야됩니다 오마이갓! 지쟈스 하 아~\""
      ],
      "metadata": {
        "id": "L8gBpcRqq2kr"
      },
      "execution_count": 119,
      "outputs": []
    },
    {
      "cell_type": "code",
      "source": [
        "Okt.morphs(sentence)"
      ],
      "metadata": {
        "colab": {
          "base_uri": "https://localhost:8080/"
        },
        "id": "4sKzntMzq2ze",
        "outputId": "948b06e3-73bf-40e7-c422-3c5bbf3ade53"
      },
      "execution_count": 120,
      "outputs": [
        {
          "output_type": "execute_result",
          "data": {
            "text/plain": [
              "['OMG',\n",
              " '공부',\n",
              " '하기',\n",
              " '넘',\n",
              " '싫네요',\n",
              " '.',\n",
              " '그래도',\n",
              " '스터디',\n",
              " '해야',\n",
              " '됩니다',\n",
              " '오마이갓',\n",
              " '!',\n",
              " '지쟈스',\n",
              " '하',\n",
              " '아',\n",
              " '~']"
            ]
          },
          "metadata": {},
          "execution_count": 120
        }
      ]
    },
    {
      "cell_type": "code",
      "source": [
        "stop_words = \". 을 를 하 아 ~ , 게 때 는 !\"\n",
        "stop_words = set(stop_words.split(' '))\n",
        "word_tokens = Okt.morphs(sentence)\n",
        "\n",
        "result = [word for word in word_tokens if not word in stop_words]\n",
        "\n",
        "print('불용어 제거 전 :',list(word_tokens))\n",
        "print('불용어 제거 후 :',result)"
      ],
      "metadata": {
        "colab": {
          "base_uri": "https://localhost:8080/"
        },
        "id": "L2T1NSDzrbdW",
        "outputId": "ebe54f58-8e45-4a04-ac70-07d8eef777d1"
      },
      "execution_count": 121,
      "outputs": [
        {
          "output_type": "stream",
          "name": "stdout",
          "text": [
            "불용어 제거 전 : ['OMG', '공부', '하기', '넘', '싫네요', '.', '그래도', '스터디', '해야', '됩니다', '오마이갓', '!', '지쟈스', '하', '아', '~']\n",
            "불용어 제거 후 : ['OMG', '공부', '하기', '넘', '싫네요', '그래도', '스터디', '해야', '됩니다', '오마이갓', '지쟈스']\n"
          ]
        }
      ]
    },
    {
      "cell_type": "code",
      "source": [
        "print(\"형태소 단위로 문장 분리\")\n",
        "print(\"----------------------\")\n",
        "print(Okt.morphs(sentence))\n",
        "print(\" \")\n",
        "print(\"문장에서 명사 추출\")\n",
        "print(\"----------------------\")\n",
        "print(Okt.nouns(sentence))\n",
        "print(\" \")\n",
        "print(\"품사 태킹(PoS)\")\n",
        "print(\"----------------------\")\n",
        "print(Okt.pos(sentence))\n",
        "rst_list = Okt.morphs(sentence)"
      ],
      "metadata": {
        "colab": {
          "base_uri": "https://localhost:8080/"
        },
        "id": "fiNyMZ1lykZc",
        "outputId": "522a1113-a360-4161-f9f8-d6e55972f431"
      },
      "execution_count": 122,
      "outputs": [
        {
          "output_type": "stream",
          "name": "stdout",
          "text": [
            "형태소 단위로 문장 분리\n",
            "----------------------\n",
            "['OMG', '공부', '하기', '넘', '싫네요', '.', '그래도', '스터디', '해야', '됩니다', '오마이갓', '!', '지쟈스', '하', '아', '~']\n",
            " \n",
            "문장에서 명사 추출\n",
            "----------------------\n",
            "['공부', '스터디', '오마이갓', '지쟈스']\n",
            " \n",
            "품사 태킹(PoS)\n",
            "----------------------\n",
            "[('OMG', 'Alpha'), ('공부', 'Noun'), ('하기', 'Verb'), ('넘', 'Verb'), ('싫네요', 'Adjective'), ('.', 'Punctuation'), ('그래도', 'Adverb'), ('스터디', 'Noun'), ('해야', 'Verb'), ('됩니다', 'Verb'), ('오마이갓', 'Noun'), ('!', 'Punctuation'), ('지쟈스', 'Noun'), ('하', 'Exclamation'), ('아', 'Exclamation'), ('~', 'Punctuation')]\n"
          ]
        }
      ]
    },
    {
      "cell_type": "markdown",
      "source": [
        "# KRWordRank 설치"
      ],
      "metadata": {
        "id": "d17e11iPIosz"
      }
    },
    {
      "cell_type": "code",
      "source": [
        "!pip install krwordrank"
      ],
      "metadata": {
        "colab": {
          "base_uri": "https://localhost:8080/"
        },
        "id": "kyzvm2cVm7AJ",
        "outputId": "befbc8a4-03fc-447d-ce84-3dbbf90db3f0"
      },
      "execution_count": 76,
      "outputs": [
        {
          "output_type": "stream",
          "name": "stdout",
          "text": [
            "Looking in indexes: https://pypi.org/simple, https://us-python.pkg.dev/colab-wheels/public/simple/\n",
            "Requirement already satisfied: krwordrank in /usr/local/lib/python3.10/dist-packages (1.0.3)\n",
            "Requirement already satisfied: numpy>=1.18.4 in /usr/local/lib/python3.10/dist-packages (from krwordrank) (1.22.4)\n",
            "Requirement already satisfied: scipy>=1.4.1 in /usr/local/lib/python3.10/dist-packages (from krwordrank) (1.10.1)\n",
            "Requirement already satisfied: scikit-learn>=0.22.1 in /usr/local/lib/python3.10/dist-packages (from krwordrank) (1.2.2)\n",
            "Requirement already satisfied: joblib>=1.1.1 in /usr/local/lib/python3.10/dist-packages (from scikit-learn>=0.22.1->krwordrank) (1.2.0)\n",
            "Requirement already satisfied: threadpoolctl>=2.0.0 in /usr/local/lib/python3.10/dist-packages (from scikit-learn>=0.22.1->krwordrank) (3.1.0)\n"
          ]
        }
      ]
    },
    {
      "cell_type": "markdown",
      "source": [
        "# 워드클라우드에 활용한 한글 폰트 설치"
      ],
      "metadata": {
        "id": "FVHXNY3AJJn0"
      }
    },
    {
      "cell_type": "code",
      "source": [
        "!apt-get update -qq"
      ],
      "metadata": {
        "id": "XnnfPl8pJNyF"
      },
      "execution_count": 95,
      "outputs": []
    },
    {
      "cell_type": "code",
      "source": [
        "!apt-get install fonts-nanum* -qq"
      ],
      "metadata": {
        "colab": {
          "base_uri": "https://localhost:8080/"
        },
        "id": "ISqjsIFLJOTl",
        "outputId": "25b1e9f7-80e2-4ddb-a016-6f9e74891453"
      },
      "execution_count": 96,
      "outputs": [
        {
          "output_type": "stream",
          "name": "stdout",
          "text": [
            "Selecting previously unselected package fonts-nanum-extra.\n",
            "(Reading database ... \r(Reading database ... 5%\r(Reading database ... 10%\r(Reading database ... 15%\r(Reading database ... 20%\r(Reading database ... 25%\r(Reading database ... 30%\r(Reading database ... 35%\r(Reading database ... 40%\r(Reading database ... 45%\r(Reading database ... 50%\r(Reading database ... 55%\r(Reading database ... 60%\r(Reading database ... 65%\r(Reading database ... 70%\r(Reading database ... 75%\r(Reading database ... 80%\r(Reading database ... 85%\r(Reading database ... 90%\r(Reading database ... 95%\r(Reading database ... 100%\r(Reading database ... 123332 files and directories currently installed.)\n",
            "Preparing to unpack .../fonts-nanum-extra_20180306-3_all.deb ...\n",
            "Unpacking fonts-nanum-extra (20180306-3) ...\n",
            "Selecting previously unselected package fonts-nanum.\n",
            "Preparing to unpack .../fonts-nanum_20180306-3_all.deb ...\n",
            "Unpacking fonts-nanum (20180306-3) ...\n",
            "Selecting previously unselected package fonts-nanum-coding.\n",
            "Preparing to unpack .../fonts-nanum-coding_2.5-2_all.deb ...\n",
            "Unpacking fonts-nanum-coding (2.5-2) ...\n",
            "Selecting previously unselected package fonts-nanum-eco.\n",
            "Preparing to unpack .../fonts-nanum-eco_1.000-7_all.deb ...\n",
            "Unpacking fonts-nanum-eco (1.000-7) ...\n",
            "Setting up fonts-nanum-extra (20180306-3) ...\n",
            "Setting up fonts-nanum (20180306-3) ...\n",
            "Setting up fonts-nanum-coding (2.5-2) ...\n",
            "Setting up fonts-nanum-eco (1.000-7) ...\n",
            "Processing triggers for fontconfig (2.13.1-2ubuntu3) ...\n"
          ]
        }
      ]
    },
    {
      "cell_type": "code",
      "source": [
        "import matplotlib.font_manager as fm\n",
        "sys_font = fm.findSystemFonts()\n",
        "\n",
        "[f for f in sys_font if 'Nanum' in f]"
      ],
      "metadata": {
        "colab": {
          "base_uri": "https://localhost:8080/"
        },
        "id": "GUg4uiDyJOlM",
        "outputId": "429cd782-2d52-4337-e56e-487aaa2d6ee1"
      },
      "execution_count": 123,
      "outputs": [
        {
          "output_type": "execute_result",
          "data": {
            "text/plain": [
              "['/usr/share/fonts/truetype/nanum/NanumSquareL.ttf',\n",
              " '/usr/share/fonts/truetype/nanum/NanumSquareB.ttf',\n",
              " '/usr/share/fonts/truetype/nanum/NanumGothicEcoBold.ttf',\n",
              " '/usr/share/fonts/truetype/nanum/NanumMyeongjoBold.ttf',\n",
              " '/usr/share/fonts/truetype/nanum/NanumMyeongjoEcoExtraBold.ttf',\n",
              " '/usr/share/fonts/truetype/nanum/NanumGothicExtraBold.ttf',\n",
              " '/usr/share/fonts/truetype/nanum/NanumMyeongjoEco.ttf',\n",
              " '/usr/share/fonts/truetype/nanum/NanumGothicCoding.ttf',\n",
              " '/usr/share/fonts/truetype/nanum/NanumBarunpenR.ttf',\n",
              " '/usr/share/fonts/truetype/nanum/NanumGothic.ttf',\n",
              " '/usr/share/fonts/truetype/nanum/NanumBarunGothicBold.ttf',\n",
              " '/usr/share/fonts/truetype/nanum/NanumSquareEB.ttf',\n",
              " '/usr/share/fonts/truetype/nanum/NanumBrush.ttf',\n",
              " '/usr/share/fonts/truetype/nanum/NanumSquareRoundR.ttf',\n",
              " '/usr/share/fonts/truetype/nanum/NanumSquareRoundB.ttf',\n",
              " '/usr/share/fonts/truetype/nanum/NanumBarunGothic.ttf',\n",
              " '/usr/share/fonts/truetype/nanum/NanumGothicBold.ttf',\n",
              " '/usr/share/fonts/truetype/nanum/NanumGothicEcoExtraBold.ttf',\n",
              " '/usr/share/fonts/truetype/nanum/NanumMyeongjo.ttf',\n",
              " '/usr/share/fonts/truetype/nanum/NanumGothicEco.ttf',\n",
              " '/usr/share/fonts/truetype/nanum/NanumSquareR.ttf',\n",
              " '/usr/share/fonts/truetype/nanum/NanumGothicLight.ttf',\n",
              " '/usr/share/fonts/truetype/nanum/NanumBarunGothicUltraLight.ttf',\n",
              " '/usr/share/fonts/truetype/nanum/NanumMyeongjoEcoBold.ttf',\n",
              " '/usr/share/fonts/truetype/nanum/NanumPen.ttf',\n",
              " '/usr/share/fonts/truetype/nanum/NanumSquareRoundEB.ttf',\n",
              " '/usr/share/fonts/truetype/nanum/NanumGothicCoding-Bold.ttf',\n",
              " '/usr/share/fonts/truetype/nanum/NanumSquareRoundL.ttf',\n",
              " '/usr/share/fonts/truetype/nanum/NanumBarunpenB.ttf',\n",
              " '/usr/share/fonts/truetype/nanum/NanumBarunGothicLight.ttf',\n",
              " '/usr/share/fonts/truetype/nanum/NanumMyeongjoExtraBold.ttf']"
            ]
          },
          "metadata": {},
          "execution_count": 123
        }
      ]
    },
    {
      "cell_type": "markdown",
      "source": [
        "# 뮤지컬 <영웅> 키워드 시각화(품사 형태로 토큰화, 불용어 처리)"
      ],
      "metadata": {
        "id": "ZdcJmWM1I7xo"
      }
    },
    {
      "cell_type": "code",
      "source": [
        "from google.colab import drive\n",
        "drive.mount('/content/drive')"
      ],
      "metadata": {
        "colab": {
          "base_uri": "https://localhost:8080/"
        },
        "id": "9AgcaGvkm7Qj",
        "outputId": "c0db6f1c-1235-495e-f94c-e66256389adb"
      },
      "execution_count": 170,
      "outputs": [
        {
          "output_type": "stream",
          "name": "stdout",
          "text": [
            "Drive already mounted at /content/drive; to attempt to forcibly remount, call drive.mount(\"/content/drive\", force_remount=True).\n"
          ]
        }
      ]
    },
    {
      "cell_type": "code",
      "source": [
        "df = pd.read_csv('/content/drive/MyDrive/와빅_DA주니어_프로젝트_뮤지컬추천인터페이스/뮤지컬엑스칼리버.csv')\n",
        "df = df.iloc[:, 1:]\n",
        "df.head()"
      ],
      "metadata": {
        "colab": {
          "base_uri": "https://localhost:8080/",
          "height": 206
        },
        "id": "dA9geWFvm7eK",
        "outputId": "4c47eb59-f390-4d6f-ea99-56b673144095"
      },
      "execution_count": 151,
      "outputs": [
        {
          "output_type": "execute_result",
          "data": {
            "text/plain": [
              "  musical_title  rate       review_title  \\\n",
              "0         엑스칼리버     5            즐거웠어요^^   \n",
              "1         엑스칼리버     2           규모는 큰데..   \n",
              "2         엑스칼리버     5   내가 엑스칼리버 몇번 봤더라…   \n",
              "3         엑스칼리버     5  최고 뮤지컬 최고 배우 추천!!   \n",
              "4         엑스칼리버     5  명불허전 시아준수 정말 대단해요   \n",
              "\n",
              "                               review_text review_date  \n",
              "0                        무대 연출이 정말 좋더라구여^^  2022.01.28  \n",
              "1                                  내용은 아쉬운  2022.01.07  \n",
              "2  아더와 혼연일체…. 보고 또봐도 보고싶은 뮤지컬… 전율이 아직도 흘러요  2021.12.26  \n",
              "3  아더와 혼연일체…. 보고 또봐도 보고싶은 뮤지컬… 전율이 아직도 흘러요  2021.12.26  \n",
              "4  아더와 혼연일체…. 보고 또봐도 보고싶은 뮤지컬… 전율이 아직도 흘러요  2021.12.26  "
            ],
            "text/html": [
              "\n",
              "  <div id=\"df-615124dd-4ba9-490d-af43-70005dd3b348\">\n",
              "    <div class=\"colab-df-container\">\n",
              "      <div>\n",
              "<style scoped>\n",
              "    .dataframe tbody tr th:only-of-type {\n",
              "        vertical-align: middle;\n",
              "    }\n",
              "\n",
              "    .dataframe tbody tr th {\n",
              "        vertical-align: top;\n",
              "    }\n",
              "\n",
              "    .dataframe thead th {\n",
              "        text-align: right;\n",
              "    }\n",
              "</style>\n",
              "<table border=\"1\" class=\"dataframe\">\n",
              "  <thead>\n",
              "    <tr style=\"text-align: right;\">\n",
              "      <th></th>\n",
              "      <th>musical_title</th>\n",
              "      <th>rate</th>\n",
              "      <th>review_title</th>\n",
              "      <th>review_text</th>\n",
              "      <th>review_date</th>\n",
              "    </tr>\n",
              "  </thead>\n",
              "  <tbody>\n",
              "    <tr>\n",
              "      <th>0</th>\n",
              "      <td>엑스칼리버</td>\n",
              "      <td>5</td>\n",
              "      <td>즐거웠어요^^</td>\n",
              "      <td>무대 연출이 정말 좋더라구여^^</td>\n",
              "      <td>2022.01.28</td>\n",
              "    </tr>\n",
              "    <tr>\n",
              "      <th>1</th>\n",
              "      <td>엑스칼리버</td>\n",
              "      <td>2</td>\n",
              "      <td>규모는 큰데..</td>\n",
              "      <td>내용은 아쉬운</td>\n",
              "      <td>2022.01.07</td>\n",
              "    </tr>\n",
              "    <tr>\n",
              "      <th>2</th>\n",
              "      <td>엑스칼리버</td>\n",
              "      <td>5</td>\n",
              "      <td>내가 엑스칼리버 몇번 봤더라…</td>\n",
              "      <td>아더와 혼연일체…. 보고 또봐도 보고싶은 뮤지컬… 전율이 아직도 흘러요</td>\n",
              "      <td>2021.12.26</td>\n",
              "    </tr>\n",
              "    <tr>\n",
              "      <th>3</th>\n",
              "      <td>엑스칼리버</td>\n",
              "      <td>5</td>\n",
              "      <td>최고 뮤지컬 최고 배우 추천!!</td>\n",
              "      <td>아더와 혼연일체…. 보고 또봐도 보고싶은 뮤지컬… 전율이 아직도 흘러요</td>\n",
              "      <td>2021.12.26</td>\n",
              "    </tr>\n",
              "    <tr>\n",
              "      <th>4</th>\n",
              "      <td>엑스칼리버</td>\n",
              "      <td>5</td>\n",
              "      <td>명불허전 시아준수 정말 대단해요</td>\n",
              "      <td>아더와 혼연일체…. 보고 또봐도 보고싶은 뮤지컬… 전율이 아직도 흘러요</td>\n",
              "      <td>2021.12.26</td>\n",
              "    </tr>\n",
              "  </tbody>\n",
              "</table>\n",
              "</div>\n",
              "      <button class=\"colab-df-convert\" onclick=\"convertToInteractive('df-615124dd-4ba9-490d-af43-70005dd3b348')\"\n",
              "              title=\"Convert this dataframe to an interactive table.\"\n",
              "              style=\"display:none;\">\n",
              "        \n",
              "  <svg xmlns=\"http://www.w3.org/2000/svg\" height=\"24px\"viewBox=\"0 0 24 24\"\n",
              "       width=\"24px\">\n",
              "    <path d=\"M0 0h24v24H0V0z\" fill=\"none\"/>\n",
              "    <path d=\"M18.56 5.44l.94 2.06.94-2.06 2.06-.94-2.06-.94-.94-2.06-.94 2.06-2.06.94zm-11 1L8.5 8.5l.94-2.06 2.06-.94-2.06-.94L8.5 2.5l-.94 2.06-2.06.94zm10 10l.94 2.06.94-2.06 2.06-.94-2.06-.94-.94-2.06-.94 2.06-2.06.94z\"/><path d=\"M17.41 7.96l-1.37-1.37c-.4-.4-.92-.59-1.43-.59-.52 0-1.04.2-1.43.59L10.3 9.45l-7.72 7.72c-.78.78-.78 2.05 0 2.83L4 21.41c.39.39.9.59 1.41.59.51 0 1.02-.2 1.41-.59l7.78-7.78 2.81-2.81c.8-.78.8-2.07 0-2.86zM5.41 20L4 18.59l7.72-7.72 1.47 1.35L5.41 20z\"/>\n",
              "  </svg>\n",
              "      </button>\n",
              "      \n",
              "  <style>\n",
              "    .colab-df-container {\n",
              "      display:flex;\n",
              "      flex-wrap:wrap;\n",
              "      gap: 12px;\n",
              "    }\n",
              "\n",
              "    .colab-df-convert {\n",
              "      background-color: #E8F0FE;\n",
              "      border: none;\n",
              "      border-radius: 50%;\n",
              "      cursor: pointer;\n",
              "      display: none;\n",
              "      fill: #1967D2;\n",
              "      height: 32px;\n",
              "      padding: 0 0 0 0;\n",
              "      width: 32px;\n",
              "    }\n",
              "\n",
              "    .colab-df-convert:hover {\n",
              "      background-color: #E2EBFA;\n",
              "      box-shadow: 0px 1px 2px rgba(60, 64, 67, 0.3), 0px 1px 3px 1px rgba(60, 64, 67, 0.15);\n",
              "      fill: #174EA6;\n",
              "    }\n",
              "\n",
              "    [theme=dark] .colab-df-convert {\n",
              "      background-color: #3B4455;\n",
              "      fill: #D2E3FC;\n",
              "    }\n",
              "\n",
              "    [theme=dark] .colab-df-convert:hover {\n",
              "      background-color: #434B5C;\n",
              "      box-shadow: 0px 1px 3px 1px rgba(0, 0, 0, 0.15);\n",
              "      filter: drop-shadow(0px 1px 2px rgba(0, 0, 0, 0.3));\n",
              "      fill: #FFFFFF;\n",
              "    }\n",
              "  </style>\n",
              "\n",
              "      <script>\n",
              "        const buttonEl =\n",
              "          document.querySelector('#df-615124dd-4ba9-490d-af43-70005dd3b348 button.colab-df-convert');\n",
              "        buttonEl.style.display =\n",
              "          google.colab.kernel.accessAllowed ? 'block' : 'none';\n",
              "\n",
              "        async function convertToInteractive(key) {\n",
              "          const element = document.querySelector('#df-615124dd-4ba9-490d-af43-70005dd3b348');\n",
              "          const dataTable =\n",
              "            await google.colab.kernel.invokeFunction('convertToInteractive',\n",
              "                                                     [key], {});\n",
              "          if (!dataTable) return;\n",
              "\n",
              "          const docLinkHtml = 'Like what you see? Visit the ' +\n",
              "            '<a target=\"_blank\" href=https://colab.research.google.com/notebooks/data_table.ipynb>data table notebook</a>'\n",
              "            + ' to learn more about interactive tables.';\n",
              "          element.innerHTML = '';\n",
              "          dataTable['output_type'] = 'display_data';\n",
              "          await google.colab.output.renderOutput(dataTable, element);\n",
              "          const docLink = document.createElement('div');\n",
              "          docLink.innerHTML = docLinkHtml;\n",
              "          element.appendChild(docLink);\n",
              "        }\n",
              "      </script>\n",
              "    </div>\n",
              "  </div>\n",
              "  "
            ]
          },
          "metadata": {},
          "execution_count": 151
        }
      ]
    },
    {
      "cell_type": "code",
      "source": [
        "df.shape"
      ],
      "metadata": {
        "colab": {
          "base_uri": "https://localhost:8080/"
        },
        "id": "DweiuyX9QMDa",
        "outputId": "d181a2e6-c1f3-4eb1-c196-f77adc016368"
      },
      "execution_count": 152,
      "outputs": [
        {
          "output_type": "execute_result",
          "data": {
            "text/plain": [
              "(2227, 5)"
            ]
          },
          "metadata": {},
          "execution_count": 152
        }
      ]
    },
    {
      "cell_type": "code",
      "source": [
        "full_review = df['review_title'] + ' ' + df['review_text']\n",
        "full_review.head()"
      ],
      "metadata": {
        "colab": {
          "base_uri": "https://localhost:8080/"
        },
        "id": "9m3q_nnpm7uT",
        "outputId": "301d5f9a-7f19-436d-f155-b412e44d4bc5"
      },
      "execution_count": 155,
      "outputs": [
        {
          "output_type": "execute_result",
          "data": {
            "text/plain": [
              "0                            즐거웠어요^^ 무대 연출이 정말 좋더라구여^^\n",
              "1                                     규모는 큰데.. 내용은 아쉬운\n",
              "2    내가 엑스칼리버 몇번 봤더라… 아더와 혼연일체…. 보고 또봐도 보고싶은 뮤지컬… 전...\n",
              "3    최고 뮤지컬 최고 배우 추천!! 아더와 혼연일체…. 보고 또봐도 보고싶은 뮤지컬… ...\n",
              "4    명불허전 시아준수 정말 대단해요 아더와 혼연일체…. 보고 또봐도 보고싶은 뮤지컬… ...\n",
              "dtype: object"
            ]
          },
          "metadata": {},
          "execution_count": 155
        }
      ]
    },
    {
      "cell_type": "code",
      "source": [
        "full_review_list = full_review.values.tolist()\n",
        "full_review_list[:5]"
      ],
      "metadata": {
        "colab": {
          "base_uri": "https://localhost:8080/"
        },
        "id": "bGidfKNLn2Jm",
        "outputId": "4779c1f6-a2cf-477d-ad1b-5558a8e701c7"
      },
      "execution_count": 156,
      "outputs": [
        {
          "output_type": "execute_result",
          "data": {
            "text/plain": [
              "['즐거웠어요^^ 무대 연출이 정말 좋더라구여^^',\n",
              " '규모는 큰데.. 내용은 아쉬운',\n",
              " '내가 엑스칼리버 몇번 봤더라… 아더와 혼연일체…. 보고 또봐도 보고싶은 뮤지컬… 전율이 아직도 흘러요',\n",
              " '최고 뮤지컬 최고 배우 추천!! 아더와 혼연일체…. 보고 또봐도 보고싶은 뮤지컬… 전율이 아직도 흘러요',\n",
              " '명불허전 시아준수 정말 대단해요 아더와 혼연일체…. 보고 또봐도 보고싶은 뮤지컬… 전율이 아직도 흘러요']"
            ]
          },
          "metadata": {},
          "execution_count": 156
        }
      ]
    },
    {
      "cell_type": "code",
      "source": [
        "result = []\n",
        "for text in full_review_list:\n",
        "    malist = Okt.pos(text, norm=True, stem=True)\n",
        "    r = []\n",
        "    for word in malist:\n",
        "        if not word[1] in ['Josa', 'Eomi', 'Punctuation', 'Suffix']: #Adverb, Adjective\n",
        "            r.append(word[0])\n",
        "    result.append(r)"
      ],
      "metadata": {
        "id": "dTnV0b6Ln2f0"
      },
      "execution_count": 157,
      "outputs": []
    },
    {
      "cell_type": "code",
      "source": [
        "print(result[:10])"
      ],
      "metadata": {
        "colab": {
          "base_uri": "https://localhost:8080/"
        },
        "id": "BdC2WVq0n2sm",
        "outputId": "582acac5-8f91-4afd-8a4f-5c9e28e84d20"
      },
      "execution_count": 158,
      "outputs": [
        {
          "output_type": "stream",
          "name": "stdout",
          "text": [
            "[['즐겁다', '무대', '연출', '정말', '좋다', '구'], ['규모', '크다', '내용', '아쉽다'], ['내', '엑스칼리버', '몇번', '보다', '아더', '혼연', '일체', '보고', '또', '보다', '보다', '뮤지컬', '전율', '아직도', '흐르다'], ['최고', '뮤지컬', '최고', '배우', '추천', '아더', '혼연', '일체', '보고', '또', '보다', '보다', '뮤지컬', '전율', '아직도', '흐르다'], ['명불허전', '시아준수', '정말', '대단하다', '아더', '혼연', '일체', '보고', '또', '보다', '보다', '뮤지컬', '전율', '아직도', '흐르다'], ['뮤지컬', '엑스칼리버', '관람', '후기', '11월', '7일', '아더', '역', '맡다', '서은광', '배우', '마지막', '공연', '관람', '하다', '평소', '좋아하다', '배우', '여러', '뮤지컬', '관람', '하다', '엑스칼리버', '그', '중', '만족도', '높다', '일단', '주연', '배우', '뿐', '아니다', '모든', '배우', '연기', '노래실력', '모두', '뛰어나다', '공연장', '음향', '무대', '관객', '석', '거리', '다', '마음', '들다', '저', '특히', '찬란하다', '햇살', '뮤지컬', '넘버', '가장', '좋다', '멜로디', '가사도', '너무', '좋다', '집', '오다', '계속', '흥얼거리다', '아더', '귀엽다', '장면', '잊다', '수', '없다', 'ㅠ', '오랜', '만', '보다', '뮤지컬', '이다', '정말', '만족하다', '자다', '보다'], ['기대', '없다', '인지', '생각', '괜찮다'], ['생각', '별로', '민영기', '배우', '신', '영', '숙', '배우', '목소리', '대사도', '자다', '들리다', '서은광', '배우', '다른', '배우', '하다', '때', '뭐라다', '전혀', '안', '들다', '존', '아쉽다', '기대', '많이', '하다', '가다', '좀', '돈', '아깝다'], ['엑스칼리버', '막', '공이', '다가오다', '믿다', '싶다', '않다', '현실', '받아들이다'], ['더', '보고', '싶다', '극', '이', 'ㅠㅠ', '거의', '매주', '한번', '빠지다', '않다', '봣던', '극', '이렇게', '서울', '공연', '막바지', '이르다', '럿', '달다', '믿다', '기다', '않다', 'ㅜㅜ', '너무', '아쉽다', '뿐이다', 'ㅠㅠ', '공연', '보다', '내내', '너무', '행복하다', '관람', '하다', '앙상블', '그', '칼', '같다', '군무', '노래', '합', '매번', '놀라다', '보다', '주', '조연', '배우', '연기력', '노래', '감탄', '하다', '극', '관람', '하다', '같다', '역', '배우', '조금씩', '다른', '느낌', '표현', '하다', '여러', '번', '보다', '새롭다', '느낌', '볼', '수', '있다', '너무', '좋다', '매번', '새롭다', '애드리브', '기대하다', '보다', '느낌', '설레다', '좋다', '다시', '돌아오다', '그날', '기대하다', '남다', '지방', '공연', '화이팅', '하다']]\n"
          ]
        }
      ]
    },
    {
      "cell_type": "code",
      "source": [
        "flat_result = []\n",
        "for x in result:\n",
        "    for y in x:\n",
        "        flat_result.append(y)\n",
        "\n",
        "print(flat_result[:30])"
      ],
      "metadata": {
        "colab": {
          "base_uri": "https://localhost:8080/"
        },
        "id": "JSsCNRM0z4BD",
        "outputId": "91da1125-ffec-485c-a65c-1eede28e8b24"
      },
      "execution_count": 159,
      "outputs": [
        {
          "output_type": "stream",
          "name": "stdout",
          "text": [
            "['즐겁다', '무대', '연출', '정말', '좋다', '구', '규모', '크다', '내용', '아쉽다', '내', '엑스칼리버', '몇번', '보다', '아더', '혼연', '일체', '보고', '또', '보다', '보다', '뮤지컬', '전율', '아직도', '흐르다', '최고', '뮤지컬', '최고', '배우', '추천']\n"
          ]
        }
      ]
    },
    {
      "cell_type": "code",
      "source": [
        "f = open('/content/drive/MyDrive/와빅_DA주니어_프로젝트_뮤지컬추천인터페이스/stopwords-ko.txt', 'r')\n",
        "lines = f.readlines()\n",
        "stopwords = []\n",
        "for line in lines:\n",
        "    line = line.replace('\\n', '')\n",
        "    stopwords.append(line)\n",
        "f.close()"
      ],
      "metadata": {
        "id": "poop_SlX9WjG"
      },
      "execution_count": 171,
      "outputs": []
    },
    {
      "cell_type": "code",
      "source": [
        "print('불용어 단어 리스트: ', ' '.join(stopwords))"
      ],
      "metadata": {
        "colab": {
          "base_uri": "https://localhost:8080/"
        },
        "id": "JF7bjMyS-EgS",
        "outputId": "2e83dd2e-5fc5-48d2-8933-8c5710ebb309"
      },
      "execution_count": 172,
      "outputs": [
        {
          "output_type": "stream",
          "name": "stdout",
          "text": [
            "불용어 단어 리스트:  ! \" $ % & ' ( ) * + , - . ... 0 1 2 3 4 5 6 7 8 9 ; < = > ? @ \\ ^ _ ` | ~ · — —— ‘ ’ “ ” … 、 。 〈 〉 《 》 가 가까스로 가령 각 각각 각자 각종 갖고말하자면 같다 같이 개의치않고 거니와 거바 거의 것 것과 같이 것들 게다가 게우다 겨우 견지에서 결과에 이르다 결국 결론을 낼 수 있다 겸사겸사 고려하면 고로 곧 공동으로 과 과연 관계가 있다 관계없이 관련이 있다 관하여 관한 관해서는 구 구체적으로 구토하다 그 그들 그때 그래 그래도 그래서 그러나 그러니 그러니까 그러면 그러므로 그러한즉 그런 까닭에 그런데 그런즉 그럼 그럼에도 불구하고 그렇게 함으로써 그렇지 그렇지 않다면 그렇지 않으면 그렇지만 그렇지않으면 그리고 그리하여 그만이다 그에 따르는 그위에 그저 그중에서 그치지 않다 근거로 근거하여 기대여 기점으로 기준으로 기타 까닭으로 까악 까지 까지 미치다 까지도 꽈당 끙끙 끼익 나 나머지는 남들 남짓 너 너희 너희들 네 넷 년 논하지 않다 놀라다 누가 알겠는가 누구 다른 다른 방면으로 다만 다섯 다소 다수 다시 말하자면 다시말하면 다음 다음에 다음으로 단지 답다 당신 당장 대로 하다 대하면 대하여 대해 말하자면 대해서 댕그 더구나 더군다나 더라도 더불어 더욱더 더욱이는 도달하다 도착하다 동시에 동안 된바에야 된이상 두번째로 둘 둥둥 뒤따라 뒤이어 든간에 들 등 등등 딩동 따라 따라서 따위 따지지 않다 딱 때 때가 되어 때문에 또 또한 뚝뚝 라 해도 령 로 로 인하여 로부터 로써 륙 를 마음대로 마저 마저도 마치 막론하고 만 못하다 만약 만약에 만은 아니다 만이 아니다 만일 만큼 말하자면 말할것도 없고 매 매번 메쓰겁다 몇 모 모두 무렵 무릎쓰고 무슨 무엇 무엇때문에 물론 및 바꾸어말하면 바꾸어말하자면 바꾸어서 말하면 바꾸어서 한다면 바꿔 말하면 바로 바와같이 밖에 안된다 반대로 반대로 말하자면 반드시 버금 보는데서 보다더 보드득 본대로 봐 봐라 부류의 사람들 부터 불구하고 불문하고 붕붕 비걱거리다 비교적 비길수 없다 비로소 비록 비슷하다 비추어 보아 비하면 뿐만 아니라 뿐만아니라 뿐이다 삐걱 삐걱거리다 사 삼 상대적으로 말하자면 생각한대로 설령 설마 설사 셋 소생 소인 솨 쉿 습니까 습니다 시각 시간 시작하여 시초에 시키다 실로 심지어 아 아니 아니나다를가 아니라면 아니면 아니었다면 아래윗 아무거나 아무도 아야 아울러 아이 아이고 아이구 아이야 아이쿠 아하 아홉 안 그러면 않기 위하여 않기 위해서 알 수 있다 알았어 앗 앞에서 앞의것 야 약간 양자 어 어기여차 어느 어느 년도 어느것 어느곳 어느때 어느쪽 어느해 어디 어때 어떠한 어떤 어떤것 어떤것들 어떻게 어떻해 어이 어째서 어쨋든 어쩔수 없다 어찌 어찌됏든 어찌됏어 어찌하든지 어찌하여 언제 언젠가 얼마 얼마 안 되는 것 얼마간 얼마나 얼마든지 얼마만큼 얼마큼 엉엉 에 에 가서 에 달려 있다 에 대해 에 있다 에 한하다 에게 에서 여 여기 여덟 여러분 여보시오 여부 여섯 여전히 여차 연관되다 연이서 영 영차 옆사람 예 예를 들면 예를 들자면 예컨대 예하면 오 오로지 오르다 오자마자 오직 오호 오히려 와 와 같은 사람들 와르르 와아 왜 왜냐하면 외에도 요만큼 요만한 것 요만한걸 요컨대 우르르 우리 우리들 우선 우에 종합한것과같이 운운 월 위에서 서술한바와같이 위하여 위해서 윙윙 육 으로 으로 인하여 으로서 으로써 을 응 응당 의 의거하여 의지하여 의해 의해되다 의해서 이 이 되다 이 때문에 이 밖에 이 외에 이 정도의 이것 이곳 이때 이라면 이래 이러이러하다 이러한 이런 이럴정도로 이렇게 많은 것 이렇게되면 이렇게말하자면 이렇구나 이로 인하여 이르기까지 이리하여 이만큼 이번 이봐 이상 이어서 이었다 이와 같다 이와 같은 이와 반대로 이와같다면 이외에도 이용하여 이유만으로 이젠 이지만 이쪽 이천구 이천육 이천칠 이천팔 인 듯하다 인젠 일 일것이다 일곱 일단 일때 일반적으로 일지라도 임에 틀림없다 입각하여 입장에서 잇따라 있다 자 자기 자기집 자마자 자신 잠깐 잠시 저 저것 저것만큼 저기 저쪽 저희 전부 전자 전후 점에서 보아 정도에 이르다 제 제각기 제외하고 조금 조차 조차도 졸졸 좀 좋아 좍좍 주룩주룩 주저하지 않고 줄은 몰랏다 줄은모른다 중에서 중의하나 즈음하여 즉 즉시 지든지 지만 지말고 진짜로 쪽으로 차라리 참 참나 첫번째로 쳇 총적으로 총적으로 말하면 총적으로 보면 칠 콸콸 쾅쾅 쿵 타다 타인 탕탕 토하다 통하여 툭 퉤 틈타 팍 팔 퍽 펄렁 하 하게될것이다 하게하다 하겠는가 하고 있다 하고있었다 하곤하였다 하구나 하기 때문에 하기 위하여 하기는한데 하기만 하면 하기보다는 하기에 하나 하느니 하는 김에 하는 편이 낫다 하는것도 하는것만 못하다 하는것이 낫다 하는바 하더라도 하도다 하도록시키다 하도록하다 하든지 하려고하다 하마터면 하면 할수록 하면된다 하면서 하물며 하여금 하여야 하자마자 하지 않는다면 하지 않도록 하지마 하지마라 하지만 하하 한 까닭에 한 이유는 한 후 한다면 한다면 몰라도 한데 한마디 한적이있다 한켠으로는 한항목 할 따름이다 할 생각이다 할 줄 안다 할 지경이다 할 힘이 있다 할때 할만하다 할망정 할뿐 할수있다 할수있어 할줄알다 할지라도 할지언정 함께 해도된다 해도좋다 해봐요 해서는 안된다 해야한다 해요 했어요 향하다 향하여 향해서 허 허걱 허허 헉 헉헉 헐떡헐떡 형식으로 쓰여 혹시 혹은 혼자 훨씬 휘익 휴 흐흐 흥 힘입어 ㅜㅜ ^^ ㅠㅠ ㅠㅠㅠ ㅜㅜㅜ ㅠㅠㅠㅠ ㅜㅜㅜㅜ ㅠㅜ ㅜㅠ 역시 이다 하다 보다 뮤지컬 배우 매우 너무 좋다 멋있다 정말 진짜 ㅎㅎ ㅎㅎㅎ ㅎㅎㅎㅎ ㅎㅎㅎㅎㅎ ︿ ！ ＃ ＄ ％ ＆ （ ） ＊ ＋ ， ０ １ ２ ３ ４ ５ ６ ７ ８ ９ ： ； ＜ ＞ ？ ＠ ［ ］ ｛ ｜ ｝ ～ ￥ a b c d e f g h i j k l m n o p q r s t u v w x y z A B C D E F G H I J K L M N O P Q R S T U V W X Y Z\n"
          ]
        }
      ]
    },
    {
      "cell_type": "code",
      "source": [
        "preprocessed_word_tokens = [token for token in flat_result if token not in stopwords and len(token)>1]\n",
        "preprocessed_word_tokens"
      ],
      "metadata": {
        "colab": {
          "base_uri": "https://localhost:8080/"
        },
        "id": "umTQrr6G9WxK",
        "outputId": "a44f379f-c89a-4036-c9b5-4fada4bdd885"
      },
      "execution_count": 173,
      "outputs": [
        {
          "output_type": "execute_result",
          "data": {
            "text/plain": [
              "['즐겁다',\n",
              " '무대',\n",
              " '연출',\n",
              " '규모',\n",
              " '크다',\n",
              " '내용',\n",
              " '아쉽다',\n",
              " '엑스칼리버',\n",
              " '몇번',\n",
              " '아더',\n",
              " '혼연',\n",
              " '일체',\n",
              " '보고',\n",
              " '전율',\n",
              " '아직도',\n",
              " '흐르다',\n",
              " '최고',\n",
              " '최고',\n",
              " '추천',\n",
              " '아더',\n",
              " '혼연',\n",
              " '일체',\n",
              " '보고',\n",
              " '전율',\n",
              " '아직도',\n",
              " '흐르다',\n",
              " '명불허전',\n",
              " '시아준수',\n",
              " '대단하다',\n",
              " '아더',\n",
              " '혼연',\n",
              " '일체',\n",
              " '보고',\n",
              " '전율',\n",
              " '아직도',\n",
              " '흐르다',\n",
              " '엑스칼리버',\n",
              " '관람',\n",
              " '후기',\n",
              " '11월',\n",
              " '7일',\n",
              " '아더',\n",
              " '맡다',\n",
              " '서은광',\n",
              " '마지막',\n",
              " '공연',\n",
              " '관람',\n",
              " '평소',\n",
              " '좋아하다',\n",
              " '여러',\n",
              " '관람',\n",
              " '엑스칼리버',\n",
              " '만족도',\n",
              " '높다',\n",
              " '주연',\n",
              " '아니다',\n",
              " '모든',\n",
              " '연기',\n",
              " '노래실력',\n",
              " '뛰어나다',\n",
              " '공연장',\n",
              " '음향',\n",
              " '무대',\n",
              " '관객',\n",
              " '거리',\n",
              " '마음',\n",
              " '들다',\n",
              " '특히',\n",
              " '찬란하다',\n",
              " '햇살',\n",
              " '넘버',\n",
              " '가장',\n",
              " '멜로디',\n",
              " '가사도',\n",
              " '오다',\n",
              " '계속',\n",
              " '흥얼거리다',\n",
              " '아더',\n",
              " '귀엽다',\n",
              " '장면',\n",
              " '잊다',\n",
              " '없다',\n",
              " '오랜',\n",
              " '만족하다',\n",
              " '자다',\n",
              " '기대',\n",
              " '없다',\n",
              " '인지',\n",
              " '생각',\n",
              " '괜찮다',\n",
              " '생각',\n",
              " '별로',\n",
              " '민영기',\n",
              " '목소리',\n",
              " '대사도',\n",
              " '자다',\n",
              " '들리다',\n",
              " '서은광',\n",
              " '뭐라다',\n",
              " '전혀',\n",
              " '들다',\n",
              " '아쉽다',\n",
              " '기대',\n",
              " '많이',\n",
              " '가다',\n",
              " '아깝다',\n",
              " '엑스칼리버',\n",
              " '공이',\n",
              " '다가오다',\n",
              " '믿다',\n",
              " '싶다',\n",
              " '않다',\n",
              " '현실',\n",
              " '받아들이다',\n",
              " '보고',\n",
              " '싶다',\n",
              " '매주',\n",
              " '한번',\n",
              " '빠지다',\n",
              " '않다',\n",
              " '봣던',\n",
              " '이렇게',\n",
              " '서울',\n",
              " '공연',\n",
              " '막바지',\n",
              " '이르다',\n",
              " '달다',\n",
              " '믿다',\n",
              " '기다',\n",
              " '않다',\n",
              " '아쉽다',\n",
              " '공연',\n",
              " '내내',\n",
              " '행복하다',\n",
              " '관람',\n",
              " '앙상블',\n",
              " '군무',\n",
              " '노래',\n",
              " '조연',\n",
              " '연기력',\n",
              " '노래',\n",
              " '감탄',\n",
              " '관람',\n",
              " '조금씩',\n",
              " '느낌',\n",
              " '표현',\n",
              " '여러',\n",
              " '새롭다',\n",
              " '느낌',\n",
              " '새롭다',\n",
              " '애드리브',\n",
              " '기대하다',\n",
              " '느낌',\n",
              " '설레다',\n",
              " '다시',\n",
              " '돌아오다',\n",
              " '그날',\n",
              " '기대하다',\n",
              " '남다',\n",
              " '지방',\n",
              " '공연',\n",
              " '화이팅',\n",
              " '엑스칼리버',\n",
              " '꽂다',\n",
              " '장면',\n",
              " '인상',\n",
              " '깊다',\n",
              " '시작',\n",
              " '나오다',\n",
              " '포스',\n",
              " '작렬',\n",
              " '시아준수',\n",
              " '보컬',\n",
              " '천장',\n",
              " '뚤릴듯',\n",
              " '소름',\n",
              " '돋다',\n",
              " '무대',\n",
              " '장식',\n",
              " '굉장하다',\n",
              " '아름답다',\n",
              " '화려하다',\n",
              " '웅장',\n",
              " '무대',\n",
              " '인상',\n",
              " '무대',\n",
              " '효과',\n",
              " '화려하다',\n",
              " '웅장',\n",
              " '인상',\n",
              " '삼연',\n",
              " '오다',\n",
              " '다시',\n",
              " '가다',\n",
              " '싶다',\n",
              " '잊다',\n",
              " '엑스칼리버',\n",
              " '웅장',\n",
              " '무대',\n",
              " '들다',\n",
              " '인상',\n",
              " '연기',\n",
              " '어우러지다',\n",
              " '환상',\n",
              " '잊다',\n",
              " '되다',\n",
              " '공연',\n",
              " '생각나다',\n",
              " '가다',\n",
              " '실망',\n",
              " '않다',\n",
              " '샤아',\n",
              " '재미있다',\n",
              " '보고오다',\n",
              " '노래',\n",
              " '연기',\n",
              " '쓰다',\n",
              " '최고',\n",
              " '행복하다',\n",
              " '샤아',\n",
              " '삼연',\n",
              " '기다리다',\n",
              " '모바일',\n",
              " '후기',\n",
              " '작성',\n",
              " '제대로',\n",
              " '되다',\n",
              " '않다',\n",
              " '막공',\n",
              " '여운',\n",
              " '남아',\n",
              " '다행',\n",
              " '행복하다',\n",
              " '공연',\n",
              " '아더',\n",
              " '일대기',\n",
              " '웃다',\n",
              " '울다',\n",
              " '나중',\n",
              " '초반',\n",
              " '행복하다',\n",
              " '음악',\n",
              " '슬프다',\n",
              " '지경',\n",
              " '앙상블',\n",
              " '포함',\n",
              " '많다',\n",
              " '공연',\n",
              " '되다',\n",
              " '기쁘다',\n",
              " '반갑다',\n",
              " '노래',\n",
              " '빠지다',\n",
              " '없다',\n",
              " '김준수',\n",
              " '아더',\n",
              " '다시',\n",
              " '다시',\n",
              " '도겸',\n",
              " '가창력',\n",
              " '처음',\n",
              " '실물',\n",
              " '영접',\n",
              " '가다',\n",
              " '읍니',\n",
              " '만족스럽다',\n",
              " '읍니',\n",
              " '유튜브',\n",
              " '청음',\n",
              " '영상',\n",
              " '배다',\n",
              " '자다',\n",
              " '부르다',\n",
              " '2시간',\n",
              " '넘다',\n",
              " '빨리',\n",
              " '가다',\n",
              " '다시',\n",
              " '보고',\n",
              " '싶다',\n",
              " '많이',\n",
              " '해주다',\n",
              " '바람',\n",
              " '공연',\n",
              " '보여주다',\n",
              " '감사하다',\n",
              " '모르가나',\n",
              " '블루',\n",
              " '스퀘어',\n",
              " '만날',\n",
              " '해주다',\n",
              " '모든',\n",
              " '진심',\n",
              " '감사',\n",
              " '드리다',\n",
              " '답답하다',\n",
              " '일상',\n",
              " '선물',\n",
              " '작다',\n",
              " '행복',\n",
              " '완전체',\n",
              " '만들다',\n",
              " '엑스칼리버',\n",
              " '들다',\n",
              " '진심',\n",
              " '감사',\n",
              " '드리다',\n",
              " '픈치',\n",
              " '사정',\n",
              " '급하다',\n",
              " '도움',\n",
              " '요청',\n",
              " '기대',\n",
              " '아니다',\n",
              " '그야말로',\n",
              " '최고',\n",
              " '도움',\n",
              " '주신',\n",
              " '감사',\n",
              " '드리다',\n",
              " '삼연',\n",
              " '오다',\n",
              " '이렇게',\n",
              " '나날이',\n",
              " '발전',\n",
              " '대한민국',\n",
              " '창작',\n",
              " '어디서',\n",
              " '응원',\n",
              " '대작',\n",
              " '서사',\n",
              " '열연',\n",
              " '돋보이다',\n",
              " '서사',\n",
              " '그렇다',\n",
              " '화려하다',\n",
              " '무대',\n",
              " '음악',\n",
              " '초연',\n",
              " '비교',\n",
              " '빠지다',\n",
              " '부분',\n",
              " '아쉽다',\n",
              " '부분',\n",
              " '깔끔하다',\n",
              " '느낌',\n",
              " '모든',\n",
              " '열정',\n",
              " '모든',\n",
              " '넘버',\n",
              " '열정',\n",
              " '느껴지다',\n",
              " '몰입',\n",
              " '되어다',\n",
              " '감동',\n",
              " '서울',\n",
              " '공연',\n",
              " '끝나다',\n",
              " '지방',\n",
              " '공연',\n",
              " '기대다',\n",
              " '샤야더',\n",
              " '그리다',\n",
              " '공이',\n",
              " '불과',\n",
              " '일주일',\n",
              " '전이',\n",
              " '이렇게',\n",
              " '까마득하다',\n",
              " '옛날',\n",
              " '제일',\n",
              " '끄다',\n",
              " '찬란하다',\n",
              " '햇살',\n",
              " '부르다',\n",
              " '햇살',\n",
              " '맑다',\n",
              " '웃다',\n",
              " '샤아',\n",
              " '엄청',\n",
              " '힐링',\n",
              " '돼다',\n",
              " '얼른',\n",
              " '방공',\n",
              " '가다',\n",
              " '만나다',\n",
              " '싶다',\n",
              " '재밌다',\n",
              " '재밌다',\n",
              " '재밌다',\n",
              " '인상',\n",
              " '공연',\n",
              " '최고',\n",
              " '공연',\n",
              " '재밌다',\n",
              " '엑스칼리버',\n",
              " '공이',\n",
              " '아쉽다',\n",
              " '재밌다',\n",
              " '굿굿',\n",
              " '취향',\n",
              " '카더',\n",
              " '나누다',\n",
              " '순간',\n",
              " '소중하다',\n",
              " '행복하다',\n",
              " '운명',\n",
              " '맞서다',\n",
              " '가리다',\n",
              " 'rrra',\n",
              " '넘버',\n",
              " '네오',\n",
              " '재밌다',\n",
              " '확실하다',\n",
              " '지난',\n",
              " '시즌',\n",
              " '재밌다',\n",
              " '즐겁다',\n",
              " '자다',\n",
              " '봣습니',\n",
              " '재밌다',\n",
              " '작품',\n",
              " '믿다',\n",
              " '김준수',\n",
              " '공연',\n",
              " '작년',\n",
              " '오다',\n",
              " '해도',\n",
              " '자다',\n",
              " '김준수',\n",
              " '연기',\n",
              " '노래',\n",
              " '차다',\n",
              " '모든',\n",
              " '공연',\n",
              " '한번',\n",
              " '역다',\n",
              " '노래',\n",
              " '연기',\n",
              " '재밌다',\n",
              " '엑스칼리버',\n",
              " '재밌다',\n",
              " '재미있다',\n",
              " '끝나다',\n",
              " '아쉽다',\n",
              " '정도',\n",
              " '재미있다',\n",
              " '감동',\n",
              " '감동',\n",
              " '감동',\n",
              " '마지막',\n",
              " '모든',\n",
              " '열정',\n",
              " '쏟다',\n",
              " '부다',\n",
              " '감사',\n",
              " '드리다',\n",
              " '들다',\n",
              " '마지막',\n",
              " '짱짱하다',\n",
              " '텐션',\n",
              " '에너지',\n",
              " '공연',\n",
              " '보여주다',\n",
              " '카멜롯',\n",
              " '지점',\n",
              " '마지막',\n",
              " '하루',\n",
              " '행복하다',\n",
              " '카멜롯',\n",
              " '지점',\n",
              " '만나다',\n",
              " '김준수',\n",
              " '노래',\n",
              " '연기',\n",
              " '최고',\n",
              " '영상',\n",
              " '엑스칼리버',\n",
              " '실제',\n",
              " '라이브',\n",
              " '대단하다',\n",
              " '소름',\n",
              " '돋다',\n",
              " '특히',\n",
              " '김준수',\n",
              " '연기',\n",
              " '아더',\n",
              " '감정',\n",
              " '고스',\n",
              " '자다',\n",
              " '전달',\n",
              " '되다',\n",
              " '느낌',\n",
              " '받다',\n",
              " '실제',\n",
              " '보고',\n",
              " '들다',\n",
              " '상상',\n",
              " '김준수',\n",
              " '계속',\n",
              " '관람',\n",
              " '싶다',\n",
              " '생각',\n",
              " '최고',\n",
              " '최고',\n",
              " '공연',\n",
              " '갬동갬동',\n",
              " '재밌다',\n",
              " '엑스칼리버',\n",
              " '한번',\n",
              " '서다',\n",
              " '안되다',\n",
              " '넘버',\n",
              " '맛집',\n",
              " '좋아지다',\n",
              " '공연',\n",
              " '서울',\n",
              " '공연',\n",
              " '나다',\n",
              " '지방',\n",
              " '멋지다',\n",
              " '자다',\n",
              " '믿다',\n",
              " '보고',\n",
              " '싶다',\n",
              " '김준수',\n",
              " '언제나',\n",
              " '감동',\n",
              " '주네',\n",
              " '막공',\n",
              " '모든',\n",
              " '쏟아내다',\n",
              " '연기',\n",
              " '찬사',\n",
              " '보내다',\n",
              " '김준수',\n",
              " '배우다',\n",
              " '볼때',\n",
              " '웃음',\n",
              " '눈물',\n",
              " '안기다',\n",
              " '돌아가다',\n",
              " '포만',\n",
              " '안기다',\n",
              " '줍다',\n",
              " '지방',\n",
              " '공연',\n",
              " '무사하다',\n",
              " '마치다',\n",
              " '바라다',\n",
              " '김준수',\n",
              " '연기',\n",
              " '인상',\n",
              " '아쉽다',\n",
              " '끝나다',\n",
              " '버리다',\n",
              " '올라오다',\n",
              " '기대하다',\n",
              " '재미있다',\n",
              " '재미있다',\n",
              " '할인',\n",
              " '덕분',\n",
              " '되어다',\n",
              " '멋지다',\n",
              " '공연',\n",
              " '아더',\n",
              " '생각',\n",
              " '깔끔하다',\n",
              " '목소리',\n",
              " '자다',\n",
              " '해주다',\n",
              " '특히',\n",
              " '모르가나',\n",
              " '아비',\n",
              " '늘다',\n",
              " '최고',\n",
              " '최고',\n",
              " '최고',\n",
              " '엑스칼리버',\n",
              " '자다',\n",
              " '돌아오다',\n",
              " '재다',\n",
              " '공연',\n",
              " '자다',\n",
              " '기존',\n",
              " '아더왕',\n",
              " '전설',\n",
              " '점도',\n",
              " '열정',\n",
              " '넘치다',\n",
              " '열연',\n",
              " '온통',\n",
              " '빠져들다',\n",
              " '뿌듯하다',\n",
              " '행복하다',\n",
              " '많이',\n",
              " '자라다',\n",
              " '추억',\n",
              " '만들기',\n",
              " '이보',\n",
              " '없다',\n",
              " '코로나',\n",
              " '아직',\n",
              " '진행중',\n",
              " '자주',\n",
              " '가다',\n",
              " '아쉽다',\n",
              " '정도',\n",
              " '기회',\n",
              " '열연',\n",
              " '고생',\n",
              " '많이',\n",
              " '뵈다',\n",
              " '건승',\n",
              " '비다',\n",
              " '아직',\n",
              " '코로나',\n",
              " '자유롭다',\n",
              " '백신',\n",
              " '맞다',\n",
              " '힐링',\n",
              " '자다',\n",
              " '오다',\n",
              " '넘다',\n",
              " '흠뻑',\n",
              " '빠지다',\n",
              " '자다',\n",
              " '관람',\n",
              " '관객',\n",
              " '혼연',\n",
              " '일체',\n",
              " '되다',\n",
              " '몰입',\n",
              " '장난',\n",
              " '아니다',\n",
              " '보고',\n",
              " '싶다',\n",
              " '막공',\n",
              " '가세',\n",
              " '전율',\n",
              " '크다',\n",
              " '모든',\n",
              " '들다',\n",
              " '연기',\n",
              " '열정',\n",
              " '최대로',\n",
              " '발위',\n",
              " '되다',\n",
              " '막공',\n",
              " '어떻다',\n",
              " '공연',\n",
              " '보시',\n",
              " '막공',\n",
              " '가세',\n",
              " '최고',\n",
              " '기억',\n",
              " '여러',\n",
              " '깨알',\n",
              " '포인트',\n",
              " '들이다',\n",
              " '많다',\n",
              " '서은광',\n",
              " '배우다',\n",
              " '아이돌',\n",
              " '선입견',\n",
              " '노래',\n",
              " '성량',\n",
              " '특히',\n",
              " '딕션',\n",
              " '굉장하다',\n",
              " '울면',\n",
              " '연기',\n",
              " '뭐라다',\n",
              " '들리다',\n",
              " '울프',\n",
              " '스탄',\n",
              " '아들',\n",
              " '정찰',\n",
              " '나가다',\n",
              " '나루토',\n",
              " '달리기',\n",
              " '나가다',\n",
              " '아무',\n",
              " '웃다',\n",
              " '아쉽다',\n",
              " '저만',\n",
              " 'ㅋㅋ',\n",
              " '색슨족',\n",
              " '잘추다',\n",
              " '전체',\n",
              " '초연',\n",
              " '개연',\n",
              " '생기다',\n",
              " '모습',\n",
              " '오글오글',\n",
              " '거리',\n",
              " '장면',\n",
              " '유령',\n",
              " '아더',\n",
              " '빨다',\n",
              " '손가락',\n",
              " '없다',\n",
              " '재밌다',\n",
              " '최고',\n",
              " '모르가나',\n",
              " '최고',\n",
              " '재밌다',\n",
              " '엑스칼리버',\n",
              " '재밌다',\n",
              " '넘버',\n",
              " '김준수',\n",
              " '최고',\n",
              " '김준수',\n",
              " '되어다',\n",
              " '최고',\n",
              " '엑스칼리버',\n",
              " '민영기',\n",
              " '목소리',\n",
              " '자다',\n",
              " '들리다',\n",
              " '민영기',\n",
              " '성량',\n",
              " '최고',\n",
              " '세상',\n",
              " '제일',\n",
              " '찬란하다',\n",
              " '햇살',\n",
              " '샤아',\n",
              " '두번째',\n",
              " '지갑',\n",
              " '사정',\n",
              " '않다',\n",
              " '보고',\n",
              " '싶다',\n",
              " '그대로',\n",
              " '찬란하다',\n",
              " '햇살',\n",
              " '나아가다',\n",
              " '위해',\n",
              " '모든',\n",
              " '받아들이다',\n",
              " '모습',\n",
              " '자체',\n",
              " '카멜롯',\n",
              " '얼른',\n",
              " '이주',\n",
              " '싶다',\n",
              " '받아들이다',\n",
              " '힘드다',\n",
              " '사실',\n",
              " '용서',\n",
              " '힘드다',\n",
              " '사실',\n",
              " '받아들이다',\n",
              " '용서',\n",
              " '모습',\n",
              " '샤아',\n",
              " '감정',\n",
              " '연기',\n",
              " '가다',\n",
              " '방황',\n",
              " '모습',\n",
              " '보여주다',\n",
              " '심장',\n",
              " '침묵',\n",
              " '부르다',\n",
              " '눈물',\n",
              " '날다',\n",
              " '없다',\n",
              " '설명',\n",
              " '스포',\n",
              " '아직',\n",
              " '직접',\n",
              " '갈다',\n",
              " '추천',\n",
              " '후회',\n",
              " '않다',\n",
              " '성남',\n",
              " '공도',\n",
              " '가다',\n",
              " '싶다',\n",
              " '굿굿굿',\n",
              " '재미있다',\n",
              " '엑스칼리버',\n",
              " '후기',\n",
              " '살다',\n",
              " '힘들다',\n",
              " '싸우다',\n",
              " '미워하다',\n",
              " '해내다',\n",
              " '강조',\n",
              " '되어다',\n",
              " '우울하다',\n",
              " '줄기',\n",
              " '내려오다',\n",
              " '힘드다',\n",
              " '재미있다',\n",
              " '샤아',\n",
              " '행복하다',\n",
              " '여름',\n",
              " '가을',\n",
              " '샤아',\n",
              " '행복하다',\n",
              " '김준수',\n",
              " '엑스칼리버',\n",
              " '돌아오다',\n",
              " '줄다',\n",
              " '샤아',\n",
              " '연기',\n",
              " '인상',\n",
              " '엑스칼리버',\n",
              " '드라큘라',\n",
              " '드라큘라',\n",
              " '자체',\n",
              " '표정',\n",
              " '연기',\n",
              " '더불다',\n",
              " '사소하다',\n",
              " '걸음걸이',\n",
              " '완벽하다',\n",
              " '아더',\n",
              " '캐릭터',\n",
              " '구현',\n",
              " '내신',\n",
              " '신기하다',\n",
              " '대단하다',\n",
              " '끝나다',\n",
              " '아쉽다',\n",
              " '엑스칼리버',\n",
              " '샤아',\n",
              " '가다',\n",
              " '덧붙이다',\n",
              " '필요없다',\n",
              " '그야말로',\n",
              " '완벽하다',\n",
              " '공연',\n",
              " '원래',\n",
              " '공연',\n",
              " '좋아하다',\n",
              " '날씨',\n",
              " '들다',\n",
              " '넘버',\n",
              " '끝나다',\n",
              " '박수',\n",
              " '소리',\n",
              " '왜인',\n",
              " '모르다',\n",
              " '벅차다',\n",
              " '김준수',\n",
              " '항상',\n",
              " '공연',\n",
              " '감동',\n",
              " '받다',\n",
              " '무미건조하다',\n",
              " '일상',\n",
              " '감상',\n",
              " '불어',\n",
              " '넣다',\n",
              " '원래',\n",
              " '항상',\n",
              " '후반',\n",
              " '왈칵',\n",
              " '제일',\n",
              " '끄다',\n",
              " '눈물',\n",
              " '지방',\n",
              " '공연',\n",
              " '남다',\n",
              " '블루',\n",
              " '스퀘어',\n",
              " '행복하다',\n",
              " '보내다',\n",
              " '그렇다',\n",
              " '서울',\n",
              " '공연',\n",
              " '끝나다',\n",
              " '슬프다',\n",
              " '최애',\n",
              " '넘버',\n",
              " '바뀌다',\n",
              " '어제',\n",
              " '모든',\n",
              " '넘버',\n",
              " '소중하다',\n",
              " '느껴지다',\n",
              " '지방',\n",
              " '공연',\n",
              " '기대하다',\n",
              " '엑스칼리버',\n",
              " '화이팅',\n",
              " '김준수',\n",
              " '화이팅',\n",
              " '힐링',\n",
              " '되어다',\n",
              " '추강',\n",
              " '드라큘라',\n",
              " '준수',\n",
              " '공연',\n",
              " '보고',\n",
              " '반하다',\n",
              " '엑스칼리버',\n",
              " '노래',\n",
              " '무대',\n",
              " '모든',\n",
              " '힐링',\n",
              " '평일',\n",
              " '공이',\n",
              " '감동',\n",
              " '크다',\n",
              " '기다리다',\n",
              " '후기',\n",
              " '아직',\n",
              " '엑스칼리버',\n",
              " '멜롯',\n",
              " '사람',\n",
              " '떠나다',\n",
              " '보내다',\n",
              " '준비',\n",
              " '돼다',\n",
              " '벌써',\n",
              " '공이',\n",
              " '아쉽다',\n",
              " '덕분',\n",
              " '행복하다',\n",
              " '자다',\n",
              " '자다',\n",
              " '샤아',\n",
              " '당분간',\n",
              " '안녕',\n",
              " '어제',\n",
              " '막공',\n",
              " '사실',\n",
              " '아직도',\n",
              " '실감',\n",
              " '나다',\n",
              " '않다',\n",
              " '블루',\n",
              " '스퀘어',\n",
              " '가면',\n",
              " '찬란하다',\n",
              " '햇살',\n",
              " '따뜻하다',\n",
              " '노래',\n",
              " '춤추다',\n",
              " '샤아',\n",
              " '아버지',\n",
              " '앙상블',\n",
              " '다시',\n",
              " '만날',\n",
              " '8월',\n",
              " '달려오다',\n",
              " '엑스칼리버',\n",
              " '매주',\n",
              " '정이',\n",
              " '많이',\n",
              " '들다',\n",
              " '재연',\n",
              " '공연',\n",
              " '관객',\n",
              " '행복하다',\n",
              " '영광',\n",
              " '박수',\n",
              " '열정',\n",
              " '오다',\n",
              " '어깨',\n",
              " '빠지다',\n",
              " '후회',\n",
              " '않다',\n",
              " '마다',\n",
              " '최고',\n",
              " '샤아',\n",
              " '모든',\n",
              " '뵈다',\n",
              " '기대하다',\n",
              " '샤아',\n",
              " '김준수',\n",
              " '덕분',\n",
              " '여름',\n",
              " '가을',\n",
              " '즐겁다',\n",
              " '행복하다',\n",
              " '감사하다',\n",
              " '샤아',\n",
              " '안녕',\n",
              " '샤아',\n",
              " '안녕',\n",
              " '최고',\n",
              " '막공',\n",
              " '샤아',\n",
              " '안녕',\n",
              " '최고',\n",
              " '막공',\n",
              " '샤아',\n",
              " '안녕',\n",
              " '최고',\n",
              " '막공',\n",
              " '샤아',\n",
              " '안녕',\n",
              " '최고',\n",
              " '막공',\n",
              " ...]"
            ]
          },
          "metadata": {},
          "execution_count": 173
        }
      ]
    },
    {
      "cell_type": "code",
      "source": [
        "c = Counter(preprocessed_word_tokens)\n",
        "c = dict(c.most_common(n=150)) # 빈도수가 상위 150개인 단어만 추출\n",
        "print(c)"
      ],
      "metadata": {
        "colab": {
          "base_uri": "https://localhost:8080/"
        },
        "id": "LNpQ5HAeGliK",
        "outputId": "6d78d5e9-c47b-47f4-81c0-d2325d2b8cb3"
      },
      "execution_count": 175,
      "outputs": [
        {
          "output_type": "stream",
          "name": "stdout",
          "text": [
            "{'아더': 858, '최고': 762, '샤아': 749, '공연': 663, '엑스칼리버': 657, '김준수': 567, '넘버': 555, '연기': 541, '무대': 520, '되다': 517, '노래': 460, '재밌다': 459, '자다': 439, '초연': 387, '보고': 346, '없다': 344, '들다': 342, '오다': 297, '가다': 288, '모르가나': 284, '싶다': 226, '관람': 205, '재연': 205, '감동': 204, '도겸': 203, '않다': 195, '모습': 194, '재미있다': 188, '멋지다': 177, '비어': 168, '아쉽다': 167, '많이': 161, '많다': 159, '귀엽다': 157, '추천': 156, '아니다': 156, '생각': 154, '되어다': 153, '기네': 151, '해주다': 150, '멀린': 149, '스토리': 149, '연출': 147, '모든': 143, '처음': 141, '느낌': 140, '화려하다': 133, '행복하다': 121, '새롭다': 120, '다시': 120, '부분': 120, '웅장': 119, '넘다': 118, '나오다': 117, '사람': 116, '서사': 113, '목소리': 107, '앙상블': 105, '감사하다': 105, '작품': 105, '정도': 105, '느끼다': 105, '부르다': 104, '감정': 104, '특히': 102, '한번': 102, '그렇다': 101, '보여주다': 98, '카이': 98, '마지막': 97, '믿다': 97, '오늘': 97, '모르다': 95, '사랑': 93, '바뀌다': 90, '장은아': 89, '느껴지다': 88, '즐겁다': 87, '크다': 87, '몰입': 86, '남다': 85, '막공': 85, '계속': 82, '장면': 82, '자체': 82, '캐릭터': 82, '완벽하다': 81, '예매': 80, '내용': 79, '표현': 79, '갈다': 78, '소름': 77, '눈물': 77, '소년': 75, '마음': 73, '없이': 73, '아더왕': 72, '랜슬럿': 72, '후기': 71, '기대': 71, '추가': 71, '조명': 71, '킹투더갓': 71, '이야기': 70, '좋아하다': 69, '빠지다': 69, '받다': 69, '소리': 68, '대극장': 68, '이렇게': 66, '돌아오다': 66, '만들다': 66, '성량': 66, '민영기': 65, '끝나다': 65, '싸움': 65, '128101': 65, '미치다': 64, '카아': 64, '에녹': 64, '나다': 63, '표정': 63, '대단하다': 62, '돼다': 62, '맞다': 62, '완전': 62, '흑화': 61, '매력': 61, '음향': 60, '더왕': 60, '보이다': 60, '찬란하다': 59, '여러': 58, '달라지다': 58, '듣다': 57, '인상': 56, '깊다': 56, '재미': 56, '어떻다': 55, '전체': 55, '훌륭하다': 55, '기대하다': 54, '준수': 54, '햇살': 53, '감탄': 52, '보고오다': 52, '관객': 51, '시작': 51, '기억': 51, '항상': 51}\n"
          ]
        }
      ]
    },
    {
      "cell_type": "code",
      "source": [
        "font_path = '/content/drive/MyDrive/와빅_DA주니어_프로젝트_뮤지컬추천인터페이스/HMFMPYUN.TTF'\n",
        "img = Image.open('/content/drive/MyDrive/와빅_DA주니어_프로젝트_뮤지컬추천인터페이스/올라프.jpg')\n",
        "img_array = np.array(img)\n",
        "\n",
        "wc = WordCloud(font_path=font_path, max_font_size=100, background_color='white', mask=img_array)\n",
        "gen = wc.generate_from_frequencies(c)\n",
        "plt.figure(figsize=(10,10))\n",
        "plt.axis(\"off\")\n",
        "plt.imshow(gen)"
      ],
      "metadata": {
        "colab": {
          "base_uri": "https://localhost:8080/",
          "height": 825
        },
        "id": "dkUgLSg0H16K",
        "outputId": "d8eaeef7-2757-4333-eefb-aac821d3eb3a"
      },
      "execution_count": 177,
      "outputs": [
        {
          "output_type": "execute_result",
          "data": {
            "text/plain": [
              "<matplotlib.image.AxesImage at 0x7f681de27bb0>"
            ]
          },
          "metadata": {},
          "execution_count": 177
        },
        {
          "output_type": "display_data",
          "data": {
            "text/plain": [
              "<Figure size 1000x1000 with 1 Axes>"
            ],
            "image/png": "[encoded data removed]"
          },
          "metadata": {}
        }
      ]
    },
    {
      "cell_type": "code",
      "source": [
        "plt.axis(\"off\")\n",
        "plt.imshow(img)"
      ],
      "metadata": {
        "colab": {
          "base_uri": "https://localhost:8080/",
          "height": 424
        },
        "id": "f-UfHT5-NGTN",
        "outputId": "5028a911-b723-49e5-9825-d3d5a257c426"
      },
      "execution_count": 113,
      "outputs": [
        {
          "output_type": "execute_result",
          "data": {
            "text/plain": [
              "<matplotlib.image.AxesImage at 0x7f6812f1d930>"
            ]
          },
          "metadata": {},
          "execution_count": 113
        },
        {
          "output_type": "display_data",
          "data": {
            "text/plain": [
              "<Figure size 640x480 with 1 Axes>"
            ],
            "image/png": "[encoded data removed]"
          },
          "metadata": {}
        }
      ]
    },
    {
      "cell_type": "code",
      "source": [
        "# 시각화\n",
        "\n",
        "# for winow : font_path='c:/Windows/Fonts/malgun.ttf'\n",
        "# for mac : font_path='/Library/Fonts/AppleGothic.ttf'\n",
        "wordcloud = WordCloud(font_path='/content/drive/MyDrive/와빅_DA주니어_프로젝트_뮤지컬추천인터페이스/HMFMPYUN.TTF',\n",
        "                      relative_scaling = 0.2,\n",
        "                      background_color='white', mask=img_array\n",
        "                      ).generate_from_frequencies(c)\n",
        "\n",
        "plt.figure(figsize=(12,12))\n",
        "plt.imshow(wordcloud)\n",
        "plt.axis(\"off\")\n",
        "plt.show()"
      ],
      "metadata": {
        "colab": {
          "base_uri": "https://localhost:8080/",
          "height": 961
        },
        "id": "dZrJBiPqCn4r",
        "outputId": "e7c5ecbe-76c0-4752-ebf4-a5f7e2d942e0"
      },
      "execution_count": 109,
      "outputs": [
        {
          "output_type": "display_data",
          "data": {
            "text/plain": [
              "<Figure size 1200x1200 with 1 Axes>"
            ],
            "image/png": "[encoded data removed]"
          },
          "metadata": {}
        }
      ]
    },
    {
      "cell_type": "code",
      "source": [
        "# 앨리스에서 어떤 단어가 가장 많이 나왔는지 비율로 표현\n",
        "wc = WordCloud(background_color='white', max_words=2000, mask=alice_mask, \n",
        "               stopwords=stopwords, collocations=False)\n",
        "\n",
        "# collocations=False : 연어가 아니라고 설정해줘야 'said Alice가 걸러짐'! (default=True)\n",
        "\n",
        "wc = wc.generate(text)\n",
        "wc.words_"
      ],
      "metadata": {
        "id": "uAZOnbOyCoTv"
      },
      "execution_count": null,
      "outputs": []
    }
  ]
}