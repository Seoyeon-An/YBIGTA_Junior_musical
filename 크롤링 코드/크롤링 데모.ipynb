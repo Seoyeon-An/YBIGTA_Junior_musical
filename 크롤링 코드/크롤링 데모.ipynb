{
 "cells": [
  {
   "cell_type": "code",
   "execution_count": 3,
   "id": "477c0df2",
   "metadata": {},
   "outputs": [],
   "source": [
    "import requests\n",
    "import re\n",
    "from bs4 import BeautifulSoup \n",
    "import time\n",
    "from datetime import datetime\n",
    "from selenium import webdriver\n",
    "import pandas as pd\n",
    "import numpy as np\n",
    "import csv"
   ]
  },
  {
   "cell_type": "code",
   "execution_count": 14,
   "id": "98d469af",
   "metadata": {},
   "outputs": [],
   "source": [
    "# 본인 로컬 환경에 맞게 변경\n",
    "browser = webdriver.Chrome('C:/Users/qudwn/OneDrive/바탕 화면/PythonWorkspace/chromedriver_win32/chromedriver.exe')\n",
    "browser.get(\"https://tickets.interpark.com/goods/23001653\")\n",
    "time.sleep(3)"
   ]
  },
  {
   "cell_type": "code",
   "execution_count": 15,
   "id": "49d6c6b2",
   "metadata": {},
   "outputs": [],
   "source": [
    "browser.find_element_by_xpath('//*[@id=\"popup-prdGuide\"]/div/div[3]/button').click()\n",
    "time.sleep(1)"
   ]
  },
  {
   "cell_type": "code",
   "execution_count": 16,
   "id": "6c73118e",
   "metadata": {},
   "outputs": [],
   "source": [
    "browser.find_element_by_xpath('//*[@id=\"productMainBody\"]/nav/div/div/ul/li[4]/a').click()\n",
    "time.sleep(1)"
   ]
  },
  {
   "cell_type": "code",
   "execution_count": 23,
   "id": "3ab0a3f6",
   "metadata": {},
   "outputs": [
    {
     "data": {
      "text/html": [
       "<div>\n",
       "<style scoped>\n",
       "    .dataframe tbody tr th:only-of-type {\n",
       "        vertical-align: middle;\n",
       "    }\n",
       "\n",
       "    .dataframe tbody tr th {\n",
       "        vertical-align: top;\n",
       "    }\n",
       "\n",
       "    .dataframe thead th {\n",
       "        text-align: right;\n",
       "    }\n",
       "</style>\n",
       "<table border=\"1\" class=\"dataframe\">\n",
       "  <thead>\n",
       "    <tr style=\"text-align: right;\">\n",
       "      <th></th>\n",
       "      <th>musical_title</th>\n",
       "      <th>rate</th>\n",
       "      <th>review_title</th>\n",
       "      <th>review_text</th>\n",
       "      <th>review_date</th>\n",
       "    </tr>\n",
       "  </thead>\n",
       "  <tbody>\n",
       "    <tr>\n",
       "      <th>0</th>\n",
       "      <td>영웅</td>\n",
       "      <td>5</td>\n",
       "      <td>뮤지컬영웅은 사랑입니다♡</td>\n",
       "      <td>아이가 영웅에 빠져서 또 보고싶대요</td>\n",
       "      <td>2023.05.05</td>\n",
       "    </tr>\n",
       "    <tr>\n",
       "      <th>1</th>\n",
       "      <td>영웅</td>\n",
       "      <td>5</td>\n",
       "      <td>위국헌신 군인본분</td>\n",
       "      <td>작년 영화로 처음 접했고, 이번에 뮤지컬을 통하여 전혀 새로운 경험을 했습니다.역시...</td>\n",
       "      <td>2023.05.05</td>\n",
       "    </tr>\n",
       "    <tr>\n",
       "      <th>2</th>\n",
       "      <td>영웅</td>\n",
       "      <td>5</td>\n",
       "      <td>영웅</td>\n",
       "      <td>친구가 연주하는오케스트라에 제일좋아하는 뮤지컬배우정성화님... :) 눈호강 귀호강 ...</td>\n",
       "      <td>2023.05.05</td>\n",
       "    </tr>\n",
       "    <tr>\n",
       "      <th>3</th>\n",
       "      <td>영웅</td>\n",
       "      <td>5</td>\n",
       "      <td>앙상블들이 아주 멋있고 뛰어났습니다</td>\n",
       "      <td>정성화 배우야 말해 뭐하나 싶게 뛰어난 연기 노래로 감동을 줬고 앙상블 배우들의 춤...</td>\n",
       "      <td>2023.05.05</td>\n",
       "    </tr>\n",
       "    <tr>\n",
       "      <th>4</th>\n",
       "      <td>영웅</td>\n",
       "      <td>5</td>\n",
       "      <td>네 번째 관람 &lt;영웅&gt;</td>\n",
       "      <td>1층 2열 중앙에서 본이번 공연 또한 전율, 오열, 감동이었습니다.정성화 배우님, ...</td>\n",
       "      <td>2023.05.05</td>\n",
       "    </tr>\n",
       "  </tbody>\n",
       "</table>\n",
       "</div>"
      ],
      "text/plain": [
       "  musical_title rate         review_title  \\\n",
       "0            영웅    5        뮤지컬영웅은 사랑입니다♡   \n",
       "1            영웅    5            위국헌신 군인본분   \n",
       "2            영웅    5                   영웅   \n",
       "3            영웅    5  앙상블들이 아주 멋있고 뛰어났습니다   \n",
       "4            영웅    5         네 번째 관람 <영웅>   \n",
       "\n",
       "                                         review_text review_date  \n",
       "0                                아이가 영웅에 빠져서 또 보고싶대요  2023.05.05  \n",
       "1  작년 영화로 처음 접했고, 이번에 뮤지컬을 통하여 전혀 새로운 경험을 했습니다.역시...  2023.05.05  \n",
       "2  친구가 연주하는오케스트라에 제일좋아하는 뮤지컬배우정성화님... :) 눈호강 귀호강 ...  2023.05.05  \n",
       "3  정성화 배우야 말해 뭐하나 싶게 뛰어난 연기 노래로 감동을 줬고 앙상블 배우들의 춤...  2023.05.05  \n",
       "4  1층 2열 중앙에서 본이번 공연 또한 전율, 오열, 감동이었습니다.정성화 배우님, ...  2023.05.05  "
      ]
     },
     "execution_count": 23,
     "metadata": {},
     "output_type": "execute_result"
    }
   ],
   "source": [
    "# 본인 뮤지컬 페이지에 맞게 변경, 페이지 넘어가는 것은 for 문으로 수정해서 진행하면 될 것 같고 한가지 문제가 review_text \n",
    "# 내용을 전체를 못가져오고 첫줄만 가져오는데 혹시 방법 찾으면 공유 부탁해 ㅠㅠ\n",
    "columns = ['rate', 'review_title', 'review_text', 'review_date']\n",
    "values = []\n",
    "soup = BeautifulSoup(browser.page_source, 'lxml')\n",
    "\n",
    "data_rows = soup.find_all('li', attrs={'class':'bbsItem'})\n",
    "for row in data_rows:\n",
    "    blank = []\n",
    "    rate = row.find('div', attrs={'class':'prdStarIcon'})\n",
    "    if rate:\n",
    "        rate = rate['data-star'].strip()\n",
    "        blank.append(rate)\n",
    "    else:\n",
    "        #print(\"<평점 없는 리뷰 제외합니다>\")\n",
    "        continue\n",
    "    \n",
    "    review_title = row.find('strong', attrs={'class':'bbsTitleText'})\n",
    "    if review_title:\n",
    "        review_title = review_title.get_text()\n",
    "        blank.append(review_title)\n",
    "    else:\n",
    "        #print(\"<리뷰제목 없는 리뷰 제외합니다>\")\n",
    "        continue\n",
    "\n",
    "    review_text = row.find('p', attrs={'class':'bbsText'})\n",
    "    if review_text:\n",
    "        review_text = review_text.get_text().strip()\n",
    "        blank.append(review_text)\n",
    "    else:\n",
    "        #print(\"<리뷰내용 없는 리뷰 제외합니다>\")\n",
    "        continue\n",
    "    \n",
    "    date = row.find_all('li', attrs={'class':'bbsItemInfoList'})[1]\n",
    "    if date:\n",
    "        date = date.get_text()\n",
    "        blank.append(date)\n",
    "    else:\n",
    "        #print(\"<작성날짜 없는 리뷰 제외합니다>\")\n",
    "        continue\n",
    "    \n",
    "    values.append(blank)\n",
    "\n",
    "\n",
    "df = pd.DataFrame(values, columns = columns)\n",
    "df['musical_title'] = '영웅'\n",
    "df = df[['musical_title', 'rate', 'review_title', 'review_text', 'review_date']]\n",
    "df.head()"
   ]
  },
  {
   "cell_type": "code",
   "execution_count": 24,
   "id": "8bf19be9",
   "metadata": {},
   "outputs": [],
   "source": [
    "browser.close()"
   ]
  },
  {
   "cell_type": "code",
   "execution_count": null,
   "id": "70d907d8",
   "metadata": {},
   "outputs": [],
   "source": []
  }
 ],
 "metadata": {
  "kernelspec": {
   "display_name": "Python 3 (ipykernel)",
   "language": "python",
   "name": "python3"
  },
  "language_info": {
   "codemirror_mode": {
    "name": "ipython",
    "version": 3
   },
   "file_extension": ".py",
   "mimetype": "text/x-python",
   "name": "python",
   "nbconvert_exporter": "python",
   "pygments_lexer": "ipython3",
   "version": "3.9.12"
  }
 },
 "nbformat": 4,
 "nbformat_minor": 5
}
